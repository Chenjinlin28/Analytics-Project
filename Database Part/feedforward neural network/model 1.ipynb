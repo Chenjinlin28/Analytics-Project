{
 "cells": [
  {
   "cell_type": "code",
   "execution_count": 1,
   "metadata": {},
   "outputs": [],
   "source": [
    "import numpy as np\n",
    "import pandas as pd\n",
    "from sklearn.model_selection import train_test_split\n",
    "from torch.utils.data import Dataset, DataLoader\n",
    "import torch.optim as optim\n",
    "import torch.nn as nn\n",
    "from sklearn.metrics import classification_report\n",
    "\n",
    "\n",
    "\n"
   ]
  },
  {
   "cell_type": "code",
   "execution_count": 2,
   "metadata": {},
   "outputs": [],
   "source": [
    "# Load the embeddings from the .npy file\n",
    "sentence_embeddings_array = np.load('/Users/jinlinchen/Documents/Study/HWR Berlin/Semester 2/Analytics Lab/Analytics Project/Database Part/data preprocessing for manual data/sentence_embeddings.npy')\n",
    "entity_embeddings_array = np.load('/Users/jinlinchen/Documents/Study/HWR Berlin/Semester 2/Analytics Lab/Analytics Project/Database Part/data preprocessing for manual data/entity_embeddings.npy')\n",
    "\n",
    "# Load the labels\n",
    "df = pd.read_csv('/Users/jinlinchen/Documents/Study/HWR Berlin/Semester 2/Analytics Lab/Analytics Project/Database Part/manual_label - consolidated.csv')  # Adjust this line based on your actual data format\n",
    "labels = df['class_ID'].tolist()\n",
    "\n",
    "# Convert labels to be 0-indexed instead of 1-indexed because of the model's requirements\n",
    "labels = [label - 1 for label in labels]"
   ]
  },
  {
   "cell_type": "code",
   "execution_count": 3,
   "metadata": {},
   "outputs": [],
   "source": [
    "# Set random seed for reproducibility\n",
    "random_seed = 42\n",
    "np.random.seed(random_seed)\n",
    "import torch\n",
    "torch.manual_seed(random_seed)\n",
    "if torch.cuda.is_available():\n",
    "    torch.cuda.manual_seed_all(random_seed)\n",
    "    \n",
    "# Split the dataset into training and test sets\n",
    "train_sentence_embeddings, test_sentence_embeddings, train_entity_embeddings, test_entity_embeddings, train_labels, test_labels = train_test_split( \n",
    "    sentence_embeddings_array, entity_embeddings_array, labels, test_size=0.2, random_state=random_seed)"
   ]
  },
  {
   "cell_type": "code",
   "execution_count": 4,
   "metadata": {},
   "outputs": [],
   "source": [
    "# Define a Dataset class for creating the datasets for training and testing\n",
    "class EntityDataset(Dataset):\n",
    "    def __init__(self, sentence_embeddings, entity_embeddings, labels):\n",
    "        self.sentence_embeddings = sentence_embeddings\n",
    "        self.entity_embeddings = entity_embeddings\n",
    "        self.labels = labels\n",
    "\n",
    "    def __len__(self):\n",
    "        return len(self.labels)\n",
    "\n",
    "    def __getitem__(self, idx):\n",
    "        sentence_embedding = torch.tensor(self.sentence_embeddings[idx], dtype=torch.float)\n",
    "        entity_embedding = torch.tensor(self.entity_embeddings[idx], dtype=torch.float)\n",
    "        label = torch.tensor(self.labels[idx], dtype=torch.long)\n",
    "        return {\n",
    "            \"sentence_embedding\": sentence_embedding,\n",
    "            \"entity_embedding\": entity_embedding,\n",
    "            \"label\": label\n",
    "        }\n",
    "\n",
    "# Create datasets\n",
    "train_dataset = EntityDataset(train_sentence_embeddings, train_entity_embeddings, train_labels)\n",
    "test_dataset = EntityDataset(test_sentence_embeddings, test_entity_embeddings, test_labels)\n",
    "\n",
    "# Create DataLoaders\n",
    "train_loader = DataLoader(train_dataset, batch_size=32, shuffle=True, num_workers=0)\n",
    "test_loader = DataLoader(test_dataset, batch_size=32, shuffle=False, num_workers=0)"
   ]
  },
  {
   "cell_type": "code",
   "execution_count": 5,
   "metadata": {},
   "outputs": [
    {
     "data": {
      "text/plain": [
       "EntityClassifier(\n",
       "  (fc): Linear(in_features=1536, out_features=3, bias=True)\n",
       ")"
      ]
     },
     "execution_count": 5,
     "metadata": {},
     "output_type": "execute_result"
    }
   ],
   "source": [
    "# Define a neural network model using PyTorch. \n",
    "# The model is designed to combine sentence embeddings and entity embeddings and then classify the class of the entity.\n",
    "\n",
    "class EntityClassifier(nn.Module):\n",
    "    def __init__(self, input_dim, num_labels):\n",
    "        super(EntityClassifier, self).__init__()\n",
    "        self.fc = nn.Linear(input_dim * 2, num_labels)\n",
    "\n",
    "    def forward(self, sentence_embedding, entity_embedding):\n",
    "        combined_embedding = torch.cat((sentence_embedding, entity_embedding), dim=1)\n",
    "        logits = self.fc(combined_embedding)\n",
    "        return logits\n",
    "\n",
    "\n",
    "input_dim = sentence_embeddings_array.shape[1]\n",
    "model = EntityClassifier(input_dim=input_dim, num_labels=len(np.unique(labels)))\n",
    "\n",
    "# Determine to use CPU or GPU, sometimes GPU is not available or the memory is not enough. \n",
    "device = torch.device(\"cuda\" if torch.cuda.is_available() else \"cpu\")\n",
    "model.to(device)"
   ]
  },
  {
   "cell_type": "code",
   "execution_count": 6,
   "metadata": {},
   "outputs": [],
   "source": [
    "# Define the loss function and optimizer\n",
    "criterion = nn.CrossEntropyLoss()\n",
    "# Define the optimizer\n",
    "optimizer = optim.Adam(model.parameters(), lr=2e-5)\n",
    "\n",
    "# Define a training function\n",
    "def train(model, dataloader, optimizer, criterion, device):\n",
    "    model.train()\n",
    "    for batch in dataloader:\n",
    "        sentence_embedding = batch[\"sentence_embedding\"].to(device)\n",
    "        entity_embedding = batch[\"entity_embedding\"].to(device)\n",
    "        labels = batch[\"label\"].to(device)\n",
    "        \n",
    "        optimizer.zero_grad()\n",
    "        \n",
    "        outputs = model(sentence_embedding, entity_embedding)\n",
    "        loss = criterion(outputs, labels)\n",
    "        \n",
    "        loss.backward()\n",
    "        optimizer.step()\n",
    "\n",
    "# Traine model\n",
    "for epoch in range(3):  # Train for 3 epochs\n",
    "    train(model, train_loader, optimizer, criterion, device)"
   ]
  },
  {
   "cell_type": "code",
   "execution_count": 7,
   "metadata": {},
   "outputs": [
    {
     "name": "stdout",
     "output_type": "stream",
     "text": [
      "              precision    recall  f1-score   support\n",
      "\n",
      "           0       1.00      0.06      0.11        18\n",
      "           1       0.00      0.00      0.00         9\n",
      "           2       0.38      0.62      0.47        24\n",
      "\n",
      "    accuracy                           0.31        51\n",
      "   macro avg       0.46      0.23      0.19        51\n",
      "weighted avg       0.53      0.31      0.26        51\n",
      "\n"
     ]
    }
   ],
   "source": [
    "# Difine function for evaluation\n",
    "def evaluate(model, dataloader, device):\n",
    "    model.eval()\n",
    "    all_preds = []\n",
    "    all_labels = []\n",
    "    \n",
    "    with torch.no_grad():\n",
    "        for batch in dataloader:\n",
    "            sentence_embedding = batch[\"sentence_embedding\"].to(device)\n",
    "            entity_embedding = batch[\"entity_embedding\"].to(device)\n",
    "            labels = batch[\"label\"].to(device)\n",
    "            \n",
    "            outputs = model(sentence_embedding, entity_embedding)\n",
    "            preds = torch.argmax(outputs, dim=1)\n",
    "            \n",
    "            all_preds.extend(preds.cpu().numpy())\n",
    "            all_labels.extend(labels.cpu().numpy())\n",
    "    \n",
    "    print(classification_report(all_labels, all_preds))\n",
    "\n",
    "# Evaluate the model on the test set\n",
    "evaluate(model, test_loader, device)"
   ]
  }
 ],
 "metadata": {
  "kernelspec": {
   "display_name": "Python 3",
   "language": "python",
   "name": "python3"
  },
  "language_info": {
   "codemirror_mode": {
    "name": "ipython",
    "version": 3
   },
   "file_extension": ".py",
   "mimetype": "text/x-python",
   "name": "python",
   "nbconvert_exporter": "python",
   "pygments_lexer": "ipython3",
   "version": "3.11.6"
  }
 },
 "nbformat": 4,
 "nbformat_minor": 2
}
