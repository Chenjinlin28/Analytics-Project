{
 "cells": [
  {
   "cell_type": "code",
   "execution_count": 1,
   "metadata": {},
   "outputs": [
    {
     "name": "stdout",
     "output_type": "stream",
     "text": [
      "['i', 'me', 'my', 'myself', 'we', 'our', 'ours', 'ourselves', 'you', \"you're\"]\n"
     ]
    },
    {
     "name": "stderr",
     "output_type": "stream",
     "text": [
      "[nltk_data] Downloading package stopwords to\n",
      "[nltk_data]     /Users/jinlinchen/nltk_data...\n",
      "[nltk_data]   Package stopwords is already up-to-date!\n"
     ]
    }
   ],
   "source": [
    "# install in interminal: brew install pipx\n",
    "# --> pipx install nltk\n",
    "# --> pipx transformers\n",
    "import os\n",
    "import nltk\n",
    "import ssl\n",
    "import certifi\n",
    "\n",
    "# Set the SSL context using certifi certificates\n",
    "ssl_context = ssl.create_default_context(cafile=certifi.where())\n",
    "\n",
    "# Override the default SSL context to use the new context\n",
    "ssl._create_default_https_context = lambda: ssl_context\n",
    "\n",
    "# Set the NLTK data directory\n",
    "nltk_data_dir = os.path.expanduser('~/nltk_data')\n",
    "os.makedirs(nltk_data_dir, exist_ok=True)\n",
    "nltk.data.path.append(nltk_data_dir)\n",
    "\n",
    "# Download the stopwords\n",
    "nltk.download('stopwords', download_dir=nltk_data_dir)\n",
    "\n",
    "# Import the stopwords corpus\n",
    "from nltk.corpus import stopwords\n",
    "\n",
    "# Ensure stopwords are loaded from the correct directory\n",
    "nltk.data.path.append(nltk_data_dir)\n",
    "nltk_stopwords = stopwords.words('english')\n",
    "print(nltk_stopwords[:10])  \n"
   ]
  }
 ],
 "metadata": {
  "kernelspec": {
   "display_name": "Python 3",
   "language": "python",
   "name": "python3"
  },
  "language_info": {
   "codemirror_mode": {
    "name": "ipython",
    "version": 3
   },
   "file_extension": ".py",
   "mimetype": "text/x-python",
   "name": "python",
   "nbconvert_exporter": "python",
   "pygments_lexer": "ipython3",
   "version": "3.11.6"
  }
 },
 "nbformat": 4,
 "nbformat_minor": 2
}
