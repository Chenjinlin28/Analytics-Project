{
 "cells": [
  {
   "cell_type": "code",
   "execution_count": null,
   "metadata": {},
   "outputs": [],
   "source": [
    "# install in interminal: brew install pipx\n",
    "# --> pipx install nltk\n",
    "# --> pipx transformers\n",
    "import os\n",
    "import nltk\n",
    "import ssl\n",
    "import certifi\n",
    "\n",
    "# Set the SSL context using certifi certificates\n",
    "ssl_context = ssl.create_default_context(cafile=certifi.where())\n",
    "\n",
    "# Override the default SSL context to use the new context\n",
    "ssl._create_default_https_context = lambda: ssl_context\n",
    "\n",
    "# Set the NLTK data directory\n",
    "nltk_data_dir = os.path.expanduser('~/nltk_data')\n",
    "os.makedirs(nltk_data_dir, exist_ok=True)\n",
    "nltk.data.path.append(nltk_data_dir)\n",
    "\n",
    "# Download the stopwords\n",
    "nltk.download('stopwords', download_dir=nltk_data_dir)\n",
    "\n",
    "# Import the stopwords corpus\n",
    "from nltk.corpus import stopwords\n",
    "\n",
    "# Ensure stopwords are loaded from the correct directory\n",
    "nltk.data.path.append(nltk_data_dir)\n",
    "nltk_stopwords = stopwords.words('english')\n",
    "print(nltk_stopwords[:10])  # Print the first 10 stopwords to verify\n"
   ]
  }
 ],
 "metadata": {
  "language_info": {
   "name": "python"
  }
 },
 "nbformat": 4,
 "nbformat_minor": 2
}
